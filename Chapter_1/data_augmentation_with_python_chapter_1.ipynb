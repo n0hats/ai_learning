{
  "nbformat": 4,
  "nbformat_minor": 0,
  "metadata": {
    "colab": {
      "provenance": [],
      "toc_visible": true,
      "include_colab_link": true
    },
    "kernelspec": {
      "name": "python3",
      "display_name": "Python 3"
    },
    "language_info": {
      "name": "python"
    },
    "accelerator": "GPU",
    "gpuClass": "standard"
  },
  "cells": [
    {
      "cell_type": "markdown",
      "metadata": {
        "id": "view-in-github",
        "colab_type": "text"
      },
      "source": [
        "<a href=\"https://colab.research.google.com/github/n0hats/ai_learning/blob/main/Chapter_1/data_augmentation_with_python_chapter_1.ipynb\" target=\"_parent\"><img src=\"https://colab.research.google.com/assets/colab-badge.svg\" alt=\"Open In Colab\"/></a>"
      ]
    },
    {
      "cell_type": "markdown",
      "source": [
        "[![Open in Colab](https://colab.research.google.com/assets/colab-badge.svg)](https://colab.research.google.com/github/duchaba/Data-Augmentation-with-Python/blob/main/data_augmentation_with_python_chapter_1.ipynb)"
      ],
      "metadata": {
        "id": "j13ydoAwOsIM"
      }
    },
    {
      "cell_type": "markdown",
      "source": [
        "# 🌻 Welcome to Chapter 1, Data Augmentation Made Easy\n",
        "\n",
        "\n",
        "---\n",
        "\n",
        "I am glad to see you using this Python Notebook. 🐕\n",
        "\n",
        "The Python Notebook is an integral part of the book. You can add new “code cells” to extend the functions, add your data, and explore new possibilities, such as downloading additional real-world datasets from the Kaggle website and coding the **Fun challenges**. Furthermore, the book has **Fun facts**, in-depth discussion about augmentation techniques, and Pluto, an imaginary Siberian Huskey coding companion. Together they will guide you every steps of the way.\n",
        "\n",
        "Pluto encourages you to copy or save a copy of this Python Notebook to your local space and add the “text cells” to keep your notes. In other words, read the book and copy the relevant concept to this Python Notebook’s text-cells. Thus, you can have the explanation, note, original code, your code, and any crazy future ideas in one place.  \n",
        "\n",
        "\n",
        "💗 I hope you enjoy reading the book and hacking code as much as I enjoy writing it.\n",
        "\n",
        "\n",
        "## 🌟 Amazon Book\n",
        "\n",
        "---\n",
        "\n",
        "- The book is available on the Amazon Book website:\n",
        "  - https://www.amazon.com/dp/1803246456\n",
        "\n",
        "  - Author: Duc Haba\n",
        "  - Published: 2023\n",
        "  - Page count: 390+\n",
        "\n",
        "\n",
        "- The original Python Notebook is on:\n",
        "  - https://github.com/PacktPublishing/Data-Augmentation-with-Python/blob/main/Chapter_1/data_augmentation_with_python_chapter_1.ipynb\n",
        "\n",
        "- 🚀 Click on the blue \"Open in Colab\" button at the top of this page to begin hacking.\n"
      ],
      "metadata": {
        "id": "a5EqgaYW08Cm"
      }
    },
    {
      "cell_type": "markdown",
      "source": [
        "# 😀 Excerpt from Chapter 1, Data Augmentation Made Easy\n",
        "\n",
        "---\n",
        "\n",
        "> In case you haven’t bought the book. Here is an teaser from the first page of Chapter 1.\n",
        "\n",
        "---\n",
        "\n",
        "Data augmentation is essential for developing a successful Deep Learning (DL) project. However, data scientists and developers often overlook this crucial step. It is not a secret that you will spend the majority of the project time gathering, cleaning, and augmenting the dataset in a real-world DL project. Thus, learning how to expand the dataset without purchasing new data is essential.This book covers standard and advanced techniques for extending the image, text, audio, and tabular dataset. Furthermore, there is a discussion on data biases, and the coding lessons are on Jupyter Python Notebooks.  \n",
        "\n",
        "Chapter 1 introduces the data augmentation concepts, sets up the coding environment, creates the foundation class, and later chapters explain techniques in detail, including Python coding. The effective use of data augmentation is the proven technique between success and failure in Machine Learning (ML). Many real-world ML projects stay in the conceptual phase because of insufficient data for training the ML model. Data augmentation is a cost-effective technique to increase the dataset, lower the training error rate, and produce a more accurate prediction and forecast.\n",
        "\n",
        "---\n",
        ">**Fun fact**\n",
        "\n",
        ">The car gasoline analogy is helpful for students who first learn about data augmentation and AI. You can think of data for the AI engine as the gasoline and data augmentation as the additive, like the Chevron Techron fuel cleaner, that makes your car engine run faster, smoother, and further without extra petrol.\n",
        "\n",
        "---\n",
        "\n",
        "In Chapter 1, we’ll define the data augmentation role and the limitation of how much to extend the data without changing the data integrity. We’ll briefly discuss the different types of input data, such as image, text, audio, and tabular data, and the challenges in supplementing the data. Finally, we’ll set up the system requirements and the programming style in the accompanying Jupyter Python Notebook.   \n",
        "\n",
        "I design this book to be a hands-on journey. It will be more effective to read a chapter, run the code, re-read the chapter’s part that confused you, and jump back to hacking the code until the concept or technique is firmly understood.    \n",
        "\n",
        "You are encouraged to change or add new code to the Python Notebooks. The primary purpose is interactive learning. Thus, if something goes horribly wrong, download a fresh copy from the book GitHub. The surest method to learn is to make mistakes and create something new.\n",
        "\n",
        "Data augmentating is an iterative process. There is no fixed recipe. In other words, depending on the dataset, you select augmented functions and jiggle the parameters. A subject domain expert may provide insight into how much distortion is acceptable. By the end of Chapter 1, you will learn the general rules for data augmentation, what type of input data can be augmented, the programming style, and how to set up a Python Jupyter Notebook online or offline.\n",
        "\n",
        "In particular, Chapter 1 will cover the following primary topics:\n",
        "\n",
        "- Data augmentation role\n",
        "\n",
        "- Data input types\n",
        "\n",
        "- Python Jupyter Notebook\n",
        "\n",
        "- Programing styles\n",
        "\n",
        "Let’s start with augmentation role.\n",
        "\n",
        "---\n",
        "\n",
        "🌴 *end of excerpt from the book*\n"
      ],
      "metadata": {
        "id": "0Mo-idJS3eDh"
      }
    },
    {
      "cell_type": "markdown",
      "source": [
        "## Programming styles"
      ],
      "metadata": {
        "id": "ukspBUMp4N97"
      }
    },
    {
      "cell_type": "code",
      "source": [
        "# git version should be 2.17.1 or higher\n",
        "!git --version"
      ],
      "metadata": {
        "id": "AEoYuTg6y1YN"
      },
      "execution_count": null,
      "outputs": []
    },
    {
      "cell_type": "code",
      "source": [
        "# clone the official code\n",
        "\n",
        "url = 'https://github.com/PacktPublishing/Data-Augmentation-with-Python'\n",
        "!git clone {url}"
      ],
      "metadata": {
        "id": "BgGgEP3SytI4"
      },
      "execution_count": null,
      "outputs": []
    },
    {
      "cell_type": "code",
      "source": [
        "# set chapter 1 name\n",
        "\n",
        "pluto_chapter_1 = './Data-Augmentation-with-Python/pluto/pluto_chapter_1.py'"
      ],
      "metadata": {
        "id": "pibFWfy-0w5z"
      },
      "execution_count": null,
      "outputs": []
    },
    {
      "cell_type": "code",
      "execution_count": null,
      "metadata": {
        "id": "F7hGhKAE0bmh"
      },
      "outputs": [],
      "source": [
        "# %%writefile {pluto_chapter_1}\n",
        "\n",
        "# AI function documentation\n",
        "#\n",
        "# prompt: write documentation for the following function: add_method()\n",
        "# Note: B-grade, cycle the above to one function at a time. Give multiple\n",
        "# functions will confused it.\n",
        "\n",
        "# create an object\n",
        "# First, importing the basic library\n",
        "import torch\n",
        "import pandas\n",
        "import numpy\n",
        "import matplotlib\n",
        "import pathlib\n",
        "import PIL\n",
        "import datetime\n",
        "import sys\n",
        "import psutil\n",
        "# create class/object\n",
        "class PacktDataAug(object):\n",
        "  \"\"\"\n",
        "    The PacktDataAug class is the based class for the\n",
        "    \"Data Augmentation with Python\" book.\n",
        "  \"\"\"\n",
        "  #\n",
        "  # initialize the object\n",
        "  def __init__(self, name=\"Pluto\", is_verbose=True,*args, **kwargs):\n",
        "    \"\"\"\n",
        "\n",
        "    This is the constructor function.\n",
        "\n",
        "    Args:\n",
        "\n",
        "     name (str): It requires a name for the object. The default is 'Pluto'\n",
        "     verbose (bool):  The default value of `verbose` is True. This function prints out the\n",
        "        name of the object if `is_verbose == True`. This is used to debug\n",
        "        code. When you are ready to deploy the model, then you should set\n",
        "        `is_verbose == False` in order to avoid printing out diagnostic\n",
        "        messages.\n",
        "\n",
        "      Additionally, this function takes any number of other\n",
        "      parameters. These parameters are stored in `**kwargs` and are\n",
        "      accessed via the function `get_kwargs()`. See the documentation\n",
        "      for `get_kwargs()` for more details.\n",
        "      Note that `__init__()` is\n",
        "      automatically called when you create a new object.\n",
        "\n",
        "    Returns:\n",
        "      None.\n",
        "    \"\"\"\n",
        "    super(PacktDataAug, self).__init__(*args, **kwargs)\n",
        "    self.author = \"Duc Haba\"\n",
        "    self.version = 1.0\n",
        "    self.name = name\n",
        "    if (is_verbose):\n",
        "      self._ph()\n",
        "      self._pp(\"Hello from class\", f\"{self.__class__} Class: {self.__class__.__name__}\")\n",
        "      self._pp(\"Code name\", self.name)\n",
        "      self._pp(\"Author is\", self.author)\n",
        "      self._ph()\n",
        "    #\n",
        "    return\n",
        "  #\n",
        "  # pretty print output name-value line\n",
        "  def _pp(self, a, b):\n",
        "    \"\"\"\n",
        "\n",
        "      pretty print output name-value line\n",
        "\n",
        "      Args:\n",
        "          a (str): Name of key\n",
        "          b (any): value of key\n",
        "\n",
        "      Returns:\n",
        "          None\n",
        "    \"\"\"\n",
        "    print(\"%28s : %s\" % (str(a), str(b)))\n",
        "    return\n",
        "  #\n",
        "  # pretty print the header or footer lines\n",
        "  def _ph(self):\n",
        "    \"\"\"\n",
        "      pretty print the header or footer lines\n",
        "\n",
        "      Args:\n",
        "          None\n",
        "\n",
        "      Returns:\n",
        "          None\n",
        "      \"\"\"\n",
        "    print(\"-\" * 28, \":\", \"-\" * 28)\n",
        "    return\n",
        "# ---end of class\n",
        "#\n",
        "# Hack it! Add new decorator\n",
        "# add_method() is inspired Michael Garod's blog,\n",
        "# AND correction by: Филя Усков\n",
        "#\n",
        "import functools\n",
        "def add_method(x):\n",
        "  \"\"\"\n",
        "\n",
        "    Decorator creates a new method to class\n",
        "    `x` with the same name and parameters as function `z`\n",
        "    Args:\n",
        "        x: class to add function\n",
        "        z: function to add to class `x`\n",
        "    Returns:\n",
        "        a decorator\n",
        "  \"\"\"\n",
        "  def dec(z):\n",
        "    @functools.wraps(z)\n",
        "    def y(*args, **kwargs):\n",
        "      return z(*args, **kwargs)\n",
        "    setattr(x, z.__name__, y)\n",
        "    return z\n",
        "  return dec\n",
        "#"
      ]
    },
    {
      "cell_type": "code",
      "source": [
        "# %%writefile -a {pluto_chapter_1}\n",
        "\n",
        "# create pluto (or any name you choose)\n",
        "pluto = PacktDataAug(\"Pluto\")"
      ],
      "metadata": {
        "id": "rtOsxJVNC8AV"
      },
      "execution_count": null,
      "outputs": []
    },
    {
      "cell_type": "code",
      "source": [
        "# %%writefile -a {pluto_chapter_1}\n",
        "\n",
        "@add_method(PacktDataAug)\n",
        "def say_sys_info(self):\n",
        "  \"\"\"\n",
        "\n",
        "    Print out system information. Useful for\n",
        "    debugging purposes. Prints out information such as\n",
        "    the system time, platform, Python version, PyTorch\n",
        "    version, Pandas version, PIL version, and\n",
        "    Matplotlib version. Also prints the number of CPU\n",
        "    cores and the CPU speed.\n",
        "\n",
        "    Note that this function is added to the class `PacktDataAug` via\n",
        "    the decorator `@add_method()`. This means that you can\n",
        "    call this function as `p.say_system_info()`,\n",
        "    where `p` is an instance of `PacktDAtaAug`.\n",
        "\n",
        "    Args:\n",
        "      None\n",
        "\n",
        "    Returns:\n",
        "      None\n",
        "  \"\"\"\n",
        "  self._ph()\n",
        "  now = datetime.datetime.now()\n",
        "  self._pp(\"System time\", now.strftime(\"%Y/%m/%d %H:%M\"))\n",
        "  self._pp(\"Platform\", sys.platform)\n",
        "  self._pp(\"Pluto Version (Chapter)\", self.version)\n",
        "  v = sys.version.replace('\\n', '')\n",
        "  self._pp(\"Python (3.7.10)\", f'actual: {v}')\n",
        "  self._pp(\"PyTorch (1.11.0)\", f'actual: {torch.__version__}')\n",
        "  self._pp(\"Pandas (1.3.5)\", f'actual: {pandas.__version__}')\n",
        "  self._pp(\"PIL (9.0.0)\", f'actual: {PIL.__version__}')\n",
        "  self._pp(\"Matplotlib (3.2.2)\", f'actual: {matplotlib.__version__}')\n",
        "  #\n",
        "  try:\n",
        "    val = psutil.cpu_count()\n",
        "    self._pp(\"CPU count\", val)\n",
        "    val = psutil.cpu_freq()\n",
        "    if (None != val):\n",
        "      val = val._asdict()\n",
        "      self._pp(\"CPU speed\",  f'{val[\"current\"]/1000:.2f} GHz')\n",
        "      self._pp(\"CPU max speed\", f'{val[\"max\"]/1000:.2f} GHz')\n",
        "    else:\n",
        "      self._pp(\"*CPU speed\", \"NOT available\")\n",
        "  except:\n",
        "    pass\n",
        "  self._ph()\n",
        "  return"
      ],
      "metadata": {
        "id": "eaYZdpesv7_V"
      },
      "execution_count": null,
      "outputs": []
    },
    {
      "cell_type": "code",
      "source": [
        "pluto.say_sys_info()"
      ],
      "metadata": {
        "id": "ZeTJo-9-Lrv1"
      },
      "execution_count": null,
      "outputs": []
    },
    {
      "cell_type": "code",
      "source": [
        "# end of chapter 1\n",
        "print('End of chapter 1')"
      ],
      "metadata": {
        "id": "FWpmCx6sJiFg"
      },
      "execution_count": null,
      "outputs": []
    },
    {
      "cell_type": "code",
      "source": [
        "# extra:\n",
        "\n",
        "# review the AI documentation for the code.\n",
        "help(pluto)"
      ],
      "metadata": {
        "id": "Wq4ahJGT68qp"
      },
      "execution_count": null,
      "outputs": []
    },
    {
      "cell_type": "code",
      "source": [
        "# specific AI doc\n",
        "help(pluto.say_sys_info)"
      ],
      "metadata": {
        "id": "-teC3Ow77LU2"
      },
      "execution_count": null,
      "outputs": []
    },
    {
      "cell_type": "markdown",
      "source": [
        "## Export to pure Python code (Optional)"
      ],
      "metadata": {
        "id": "9t1NqPdsR6kS"
      }
    },
    {
      "cell_type": "markdown",
      "source": [
        "- Add the \"%%writefile your_file_name.py\" to the first code cell that you want export\n",
        "\n",
        "- Add the \"%%writefile -a your_file_name.py\" (-a is for append) to the code cells that you want to export.\n",
        "\n",
        "- Make it a comment when you using the code cells normally.\n",
        "\n",
        "- Uncommend the \"%%writefile\" and run each code cells to export the file."
      ],
      "metadata": {
        "id": "ajnizD18R6vm"
      }
    },
    {
      "cell_type": "markdown",
      "source": [
        "## Push up all changes (Optional)"
      ],
      "metadata": {
        "id": "LEj7fgaIN9_S"
      }
    },
    {
      "cell_type": "markdown",
      "source": [
        "- username: [your github username or email]\n",
        "\n",
        "- password: [use github token]"
      ],
      "metadata": {
        "id": "lHXRf21BT9N8"
      }
    },
    {
      "cell_type": "code",
      "source": [
        "import os\n",
        "f = 'Data-Augmentation-with-Python'\n",
        "# os.chdir(f)\n",
        "!git add -A\n",
        "!git config --global user.email \"duc.haba@gmail.com\"\n",
        "!git config --global user.name \"duchaba\"\n",
        "!git commit -m \"update with latest ai doc for with output file\""
      ],
      "metadata": {
        "id": "eSXJKJFlOEeE"
      },
      "execution_count": null,
      "outputs": []
    },
    {
      "cell_type": "markdown",
      "source": [
        "## Summary"
      ],
      "metadata": {
        "id": "EzO7lDYDWeLz"
      }
    },
    {
      "cell_type": "markdown",
      "source": [
        "Every chaper will begin with same base class \"PacktDataAug\".\n",
        "\n",
        "✋ FAIR WARNING:\n",
        "\n",
        "- The coding uses long and complete function path name.\n",
        "\n",
        "- I wrote the code for easy to understand and not for compactness, fast execution, nor cleaverness.\n",
        "\n"
      ],
      "metadata": {
        "id": "X2iUPf3EWePd"
      }
    },
    {
      "cell_type": "markdown",
      "source": [
        "## 🙅\n",
        "- Extra, extra ...\n",
        "- These are page/book clean up routines, so run with extreme caution."
      ],
      "metadata": {
        "id": "BlH7cP5kfpAD"
      }
    },
    {
      "cell_type": "code",
      "source": [
        "# # do the git push in the xterm console\n",
        "# #!git push\n",
        "\n",
        "# !pip install colab-xterm\n",
        "# %load_ext colabxterm\n",
        "# %xterm"
      ],
      "metadata": {
        "id": "s2MlGMMzz4mS"
      },
      "execution_count": null,
      "outputs": []
    },
    {
      "cell_type": "code",
      "source": [
        "# prompt: connect to google drive\n",
        "\n",
        "from google.colab import drive\n",
        "drive.mount('/content/drive')"
      ],
      "metadata": {
        "id": "sGuStKRxfuir"
      },
      "execution_count": null,
      "outputs": []
    },
    {
      "cell_type": "code",
      "source": [
        "# # copy latest to google drive so that we can load/open new notebook.\n",
        "# import os\n",
        "# dest = '/content/drive/MyDrive/\"Colab Notebooks\"/book/Data-Augmentation-with-Python'\n",
        "# os.makedirs(dest, exist_ok=True)\n",
        "# src = '/content/Data-Augmentation-with-Python/*'\n",
        "# !cp -fr {src} {dest}"
      ],
      "metadata": {
        "id": "ELBlBT9mgHHN"
      },
      "execution_count": null,
      "outputs": []
    },
    {
      "cell_type": "code",
      "source": [
        "# define file names\n",
        "orig_file = 'data_augmentation_with_python_chapter_1.ipynb'\n",
        "orig_path = '/content/Data-Augmentation-with-Python/Chapter_1/'\n",
        "this_file = f'/content/drive/MyDrive/\"Colab Notebooks\"/{orig_file}'\n",
        "#\n",
        "# Pick one below\n",
        "#\n",
        "local_file = f'{orig_path}{orig_file}'\n",
        "# local_file = f'{orig_path}data_augmentation_with_python_chapter_1_with_output.ipynb'"
      ],
      "metadata": {
        "id": "vYsgV5CLrCgM"
      },
      "execution_count": null,
      "outputs": []
    },
    {
      "cell_type": "code",
      "source": [
        "# # STEP 1: copy local drive to google drive (this file)\n",
        "# # override so need to reload this page\n",
        "# #\n",
        "# !cp -f {local_file} {this_file}"
      ],
      "metadata": {
        "id": "LnYJ6eQ7ra2W"
      },
      "execution_count": null,
      "outputs": []
    },
    {
      "cell_type": "code",
      "source": [
        "# STEP 2: copy (this file) to local drive for sync with github.\n",
        "# besure to save the latest first\n",
        "#\n",
        "!cp -f {this_file} {local_file}"
      ],
      "metadata": {
        "id": "nxiaAhkomZB1"
      },
      "execution_count": null,
      "outputs": []
    }
  ]
}